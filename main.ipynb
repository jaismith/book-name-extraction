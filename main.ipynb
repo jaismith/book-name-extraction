{
  "nbformat": 4,
  "nbformat_minor": 0,
  "metadata": {
    "accelerator": "GPU",
    "colab": {
      "name": "book-name-extraction",
      "provenance": [],
      "collapsed_sections": [],
      "toc_visible": true
    },
    "kernelspec": {
      "display_name": "Python 3.9.4 64-bit ('textbook-name-recognition')",
      "name": "python3810jvsc74a57bd0bf856c2005ed093fea5f62566ff4fc7c62693020706d5e5ed84212489212ec15"
    },
    "language_info": {
      "codemirror_mode": {
        "name": "ipython",
        "version": 3
      },
      "file_extension": ".py",
      "mimetype": "text/x-python",
      "name": "python",
      "nbconvert_exporter": "python",
      "pygments_lexer": "ipython3",
      "version": "3.8.10"
    },
    "metadata": {
      "interpreter": {
        "hash": "bf856c2005ed093fea5f62566ff4fc7c62693020706d5e5ed84212489212ec15"
      }
    }
  },
  "cells": [
    {
      "cell_type": "markdown",
      "metadata": {
        "id": "KGKrY0pVptfR"
      },
      "source": [
        "# Book Name Extraction Project\n",
        "\n",
        "**By Jai K. Smith (Jai.K.Smith.22@dartmouth.edu)**  \n",
        "**Computational Linguistics - Spring 2021**"
      ]
    },
    {
      "cell_type": "markdown",
      "metadata": {
        "id": "a7ts3RVO0aSK"
      },
      "source": [
        "### Clone Repository"
      ]
    },
    {
      "cell_type": "code",
      "metadata": {
        "colab": {
          "base_uri": "https://localhost:8080/"
        },
        "id": "CZFDnA4O0ZT-",
        "outputId": "62a7aca3-f5d1-41b3-fea6-f1ea6cb52a82"
      },
      "source": [
        "!rm -rf *\n",
        "!git clone https://github.com/jaismith/book-name-extraction\n",
        "!mv book-name-extraction/** .\n",
        "!rm -rf book-name-extraction main.ipynb"
      ],
      "execution_count": null,
      "outputs": [
        {
          "output_type": "stream",
          "text": [
            "Cloning into 'book-name-extraction'...\n",
            "remote: Enumerating objects: 69, done.\u001b[K\n",
            "remote: Counting objects:   1% (1/69)\u001b[K\rremote: Counting objects:   2% (2/69)\u001b[K\rremote: Counting objects:   4% (3/69)\u001b[K\rremote: Counting objects:   5% (4/69)\u001b[K\rremote: Counting objects:   7% (5/69)\u001b[K\rremote: Counting objects:   8% (6/69)\u001b[K\rremote: Counting objects:  10% (7/69)\u001b[K\rremote: Counting objects:  11% (8/69)\u001b[K\rremote: Counting objects:  13% (9/69)\u001b[K\rremote: Counting objects:  14% (10/69)\u001b[K\rremote: Counting objects:  15% (11/69)\u001b[K\rremote: Counting objects:  17% (12/69)\u001b[K\rremote: Counting objects:  18% (13/69)\u001b[K\rremote: Counting objects:  20% (14/69)\u001b[K\rremote: Counting objects:  21% (15/69)\u001b[K\rremote: Counting objects:  23% (16/69)\u001b[K\rremote: Counting objects:  24% (17/69)\u001b[K\rremote: Counting objects:  26% (18/69)\u001b[K\rremote: Counting objects:  27% (19/69)\u001b[K\rremote: Counting objects:  28% (20/69)\u001b[K\rremote: Counting objects:  30% (21/69)\u001b[K\rremote: Counting objects:  31% (22/69)\u001b[K\rremote: Counting objects:  33% (23/69)\u001b[K\rremote: Counting objects:  34% (24/69)\u001b[K\rremote: Counting objects:  36% (25/69)\u001b[K\rremote: Counting objects:  37% (26/69)\u001b[K\rremote: Counting objects:  39% (27/69)\u001b[K\rremote: Counting objects:  40% (28/69)\u001b[K\rremote: Counting objects:  42% (29/69)\u001b[K\rremote: Counting objects:  43% (30/69)\u001b[K\rremote: Counting objects:  44% (31/69)\u001b[K\rremote: Counting objects:  46% (32/69)\u001b[K\rremote: Counting objects:  47% (33/69)\u001b[K\rremote: Counting objects:  49% (34/69)\u001b[K\rremote: Counting objects:  50% (35/69)\u001b[K\rremote: Counting objects:  52% (36/69)\u001b[K\rremote: Counting objects:  53% (37/69)\u001b[K\rremote: Counting objects:  55% (38/69)\u001b[K\rremote: Counting objects:  56% (39/69)\u001b[K\rremote: Counting objects:  57% (40/69)\u001b[K\rremote: Counting objects:  59% (41/69)\u001b[K\rremote: Counting objects:  60% (42/69)\u001b[K\rremote: Counting objects:  62% (43/69)\u001b[K\rremote: Counting objects:  63% (44/69)\u001b[K\rremote: Counting objects:  65% (45/69)\u001b[K\rremote: Counting objects:  66% (46/69)\u001b[K\rremote: Counting objects:  68% (47/69)\u001b[K\rremote: Counting objects:  69% (48/69)\u001b[K\rremote: Counting objects:  71% (49/69)\u001b[K\rremote: Counting objects:  72% (50/69)\u001b[K\rremote: Counting objects:  73% (51/69)\u001b[K\rremote: Counting objects:  75% (52/69)\u001b[K\rremote: Counting objects:  76% (53/69)\u001b[K\rremote: Counting objects:  78% (54/69)\u001b[K\rremote: Counting objects:  79% (55/69)\u001b[K\rremote: Counting objects:  81% (56/69)\u001b[K\rremote: Counting objects:  82% (57/69)\u001b[K\rremote: Counting objects:  84% (58/69)\u001b[K\rremote: Counting objects:  85% (59/69)\u001b[K\rremote: Counting objects:  86% (60/69)\u001b[K\rremote: Counting objects:  88% (61/69)\u001b[K\rremote: Counting objects:  89% (62/69)\u001b[K\rremote: Counting objects:  91% (63/69)\u001b[K\rremote: Counting objects:  92% (64/69)\u001b[K\rremote: Counting objects:  94% (65/69)\u001b[K\rremote: Counting objects:  95% (66/69)\u001b[K\rremote: Counting objects:  97% (67/69)\u001b[K\rremote: Counting objects:  98% (68/69)\u001b[K\rremote: Counting objects: 100% (69/69)\u001b[K\rremote: Counting objects: 100% (69/69), done.\u001b[K\n",
            "remote: Compressing objects:   1% (1/54)\u001b[K\rremote: Compressing objects:   3% (2/54)\u001b[K\rremote: Compressing objects:   5% (3/54)\u001b[K\rremote: Compressing objects:   7% (4/54)\u001b[K\rremote: Compressing objects:   9% (5/54)\u001b[K\rremote: Compressing objects:  11% (6/54)\u001b[K\rremote: Compressing objects:  12% (7/54)\u001b[K\rremote: Compressing objects:  14% (8/54)\u001b[K\rremote: Compressing objects:  16% (9/54)\u001b[K\rremote: Compressing objects:  18% (10/54)\u001b[K\rremote: Compressing objects:  20% (11/54)\u001b[K\rremote: Compressing objects:  22% (12/54)\u001b[K\rremote: Compressing objects:  24% (13/54)\u001b[K\rremote: Compressing objects:  25% (14/54)\u001b[K\rremote: Compressing objects:  27% (15/54)\u001b[K\rremote: Compressing objects:  29% (16/54)\u001b[K\rremote: Compressing objects:  31% (17/54)\u001b[K\rremote: Compressing objects:  33% (18/54)\u001b[K\rremote: Compressing objects:  35% (19/54)\u001b[K\rremote: Compressing objects:  37% (20/54)\u001b[K\rremote: Compressing objects:  38% (21/54)\u001b[K\rremote: Compressing objects:  40% (22/54)\u001b[K\rremote: Compressing objects:  42% (23/54)\u001b[K\rremote: Compressing objects:  44% (24/54)\u001b[K\rremote: Compressing objects:  46% (25/54)\u001b[K\rremote: Compressing objects:  48% (26/54)\u001b[K\rremote: Compressing objects:  50% (27/54)\u001b[K\rremote: Compressing objects:  51% (28/54)\u001b[K\rremote: Compressing objects:  53% (29/54)\u001b[K\rremote: Compressing objects:  55% (30/54)\u001b[K\rremote: Compressing objects:  57% (31/54)\u001b[K\rremote: Compressing objects:  59% (32/54)\u001b[K\rremote: Compressing objects:  61% (33/54)\u001b[K\rremote: Compressing objects:  62% (34/54)\u001b[K\rremote: Compressing objects:  64% (35/54)\u001b[K\rremote: Compressing objects:  66% (36/54)\u001b[K\rremote: Compressing objects:  68% (37/54)\u001b[K\rremote: Compressing objects:  70% (38/54)\u001b[K\rremote: Compressing objects:  72% (39/54)\u001b[K\rremote: Compressing objects:  74% (40/54)\u001b[K\rremote: Compressing objects:  75% (41/54)\u001b[K\rremote: Compressing objects:  77% (42/54)\u001b[K\rremote: Compressing objects:  79% (43/54)\u001b[K\rremote: Compressing objects:  81% (44/54)\u001b[K\rremote: Compressing objects:  83% (45/54)\u001b[K\rremote: Compressing objects:  85% (46/54)\u001b[K\rremote: Compressing objects:  87% (47/54)\u001b[K\rremote: Compressing objects:  88% (48/54)\u001b[K\rremote: Compressing objects:  90% (49/54)\u001b[K\rremote: Compressing objects:  92% (50/54)\u001b[K\rremote: Compressing objects:  94% (51/54)\u001b[K\rremote: Compressing objects:  96% (52/54)\u001b[K\rremote: Compressing objects:  98% (53/54)\u001b[K\rremote: Compressing objects: 100% (54/54)\u001b[K\rremote: Compressing objects: 100% (54/54), done.\u001b[K\n",
            "Unpacking objects:   1% (1/69)   \rUnpacking objects:   2% (2/69)   \rUnpacking objects:   4% (3/69)   \rUnpacking objects:   5% (4/69)   \rUnpacking objects:   7% (5/69)   \rUnpacking objects:   8% (6/69)   \rUnpacking objects:  10% (7/69)   \rUnpacking objects:  11% (8/69)   \rUnpacking objects:  13% (9/69)   \rUnpacking objects:  14% (10/69)   \rUnpacking objects:  15% (11/69)   \rUnpacking objects:  17% (12/69)   \rUnpacking objects:  18% (13/69)   \rUnpacking objects:  20% (14/69)   \rUnpacking objects:  21% (15/69)   \rUnpacking objects:  23% (16/69)   \rUnpacking objects:  24% (17/69)   \rUnpacking objects:  26% (18/69)   \rUnpacking objects:  27% (19/69)   \rUnpacking objects:  28% (20/69)   \rUnpacking objects:  30% (21/69)   \rUnpacking objects:  31% (22/69)   \rUnpacking objects:  33% (23/69)   \rUnpacking objects:  34% (24/69)   \rUnpacking objects:  36% (25/69)   \rremote: Total 69 (delta 25), reused 57 (delta 13), pack-reused 0\u001b[K\n",
            "Unpacking objects:  37% (26/69)   \rUnpacking objects:  39% (27/69)   \rUnpacking objects:  40% (28/69)   \rUnpacking objects:  42% (29/69)   \rUnpacking objects:  43% (30/69)   \rUnpacking objects:  44% (31/69)   \rUnpacking objects:  46% (32/69)   \rUnpacking objects:  47% (33/69)   \rUnpacking objects:  49% (34/69)   \rUnpacking objects:  50% (35/69)   \rUnpacking objects:  52% (36/69)   \rUnpacking objects:  53% (37/69)   \rUnpacking objects:  55% (38/69)   \rUnpacking objects:  56% (39/69)   \rUnpacking objects:  57% (40/69)   \rUnpacking objects:  59% (41/69)   \rUnpacking objects:  60% (42/69)   \rUnpacking objects:  62% (43/69)   \rUnpacking objects:  63% (44/69)   \rUnpacking objects:  65% (45/69)   \rUnpacking objects:  66% (46/69)   \rUnpacking objects:  68% (47/69)   \rUnpacking objects:  69% (48/69)   \rUnpacking objects:  71% (49/69)   \rUnpacking objects:  72% (50/69)   \rUnpacking objects:  73% (51/69)   \rUnpacking objects:  75% (52/69)   \rUnpacking objects:  76% (53/69)   \rUnpacking objects:  78% (54/69)   \rUnpacking objects:  79% (55/69)   \rUnpacking objects:  81% (56/69)   \rUnpacking objects:  82% (57/69)   \rUnpacking objects:  84% (58/69)   \rUnpacking objects:  85% (59/69)   \rUnpacking objects:  86% (60/69)   \rUnpacking objects:  88% (61/69)   \rUnpacking objects:  89% (62/69)   \rUnpacking objects:  91% (63/69)   \rUnpacking objects:  92% (64/69)   \rUnpacking objects:  94% (65/69)   \rUnpacking objects:  95% (66/69)   \rUnpacking objects:  97% (67/69)   \rUnpacking objects:  98% (68/69)   \rUnpacking objects: 100% (69/69)   \rUnpacking objects: 100% (69/69), done.\n"
          ],
          "name": "stdout"
        }
      ]
    },
    {
      "cell_type": "markdown",
      "metadata": {
        "id": "Q5KQdHU1WaZG"
      },
      "source": [
        "# Creating Model"
      ]
    },
    {
      "cell_type": "code",
      "metadata": {
        "id": "elZjgqlsWaZI"
      },
      "source": [
        "!pip install -q -U tensorflow-text\n",
        "!pip install -q tf-models-official\n",
        "\n",
        "import json\n",
        "import os\n",
        "import shutil\n",
        "from bs4 import BeautifulSoup\n",
        "import tensorflow as tf\n",
        "import tensorflow_hub as hub\n",
        "import tensorflow_text as text\n",
        "from official.nlp import optimization\n",
        "from requests import get\n",
        "import csv\n",
        "from datetime import datetime\n",
        "import random\n",
        "import json\n",
        "import re\n",
        "import numpy as np\n",
        "\n",
        "import matplotlib.pyplot as plt\n",
        "\n",
        "import constants\n",
        "from modules import loader, preprocessing"
      ],
      "execution_count": null,
      "outputs": []
    },
    {
      "cell_type": "markdown",
      "metadata": {
        "id": "P_6bx5QdiFlc"
      },
      "source": [
        "## Load timetable textbook fields"
      ]
    },
    {
      "cell_type": "code",
      "metadata": {
        "id": "L3EVIZWiiHdI"
      },
      "source": [
        "text_data = json.loads(open('data/raw/source.json', 'r').read())\n",
        "\n",
        "data = []\n",
        "for snippet in text_data:\n",
        "  soup = BeautifulSoup(snippet, 'html.parser')\n",
        "  segments = filter(\n",
        "    lambda s:\n",
        "      not s.startswith('Textbook information not yet submitted by department/program for ') and\n",
        "      not s.startswith('Textbook(s) Required for '),\n",
        "    soup.get_text(separator='<<AND>>', strip=True).split('<<AND>>')\n",
        "  )\n",
        "\n",
        "  data += list(preprocessing.standardize(segment) for segment in segments)\n",
        "\n",
        "data = preprocessing.rule_based_clumping(data)"
      ],
      "execution_count": null,
      "outputs": []
    },
    {
      "cell_type": "markdown",
      "metadata": {
        "id": "W6quV_6lWaZJ"
      },
      "source": [
        "## Download ORC data"
      ]
    },
    {
      "cell_type": "code",
      "metadata": {
        "id": "i8CNL4BOWaZJ"
      },
      "source": [
        "if not os.path.isfile('data/raw/orc.json'):\n",
        "    loader.fetch_source(constants.DATA_SOURCE, 'orc.json')"
      ],
      "execution_count": null,
      "outputs": []
    },
    {
      "cell_type": "markdown",
      "metadata": {
        "id": "4jN4IzHOWaZJ"
      },
      "source": [
        "## Prepare dataset for training\n",
        "\n",
        "Before running this step, please create the `data/processed` folder containing `positive/` and `negative/` subfolders."
      ]
    },
    {
      "cell_type": "code",
      "metadata": {
        "colab": {
          "base_uri": "https://localhost:8080/"
        },
        "id": "W77hRif1WaZJ",
        "outputId": "d24ae32d-993f-46d8-94c7-631dddabc509"
      },
      "source": [
        "# clear and recreate processed dir (empty)\n",
        "if os.path.isdir('data/processed'):\n",
        "    shutil.rmtree('data/processed', ignore_errors=True)\n",
        "os.makedirs('data/processed/train/positive')\n",
        "os.mkdir('data/processed/train/negative')\n",
        "os.makedirs('data/processed/test/positive')\n",
        "os.mkdir('data/processed/test/negative')\n",
        "\n",
        "# generate dataset\n",
        "preprocessing.generate_positive()\n",
        "preprocessing.generate_negative()"
      ],
      "execution_count": null,
      "outputs": [
        {
          "output_type": "stream",
          "text": [
            "Generated 11707 positive samples\n",
            "Generated 11707 negative samples\n"
          ],
          "name": "stdout"
        }
      ]
    },
    {
      "cell_type": "markdown",
      "metadata": {
        "id": "zkDoQJVDWaZK"
      },
      "source": [
        "## Configure tf dataset"
      ]
    },
    {
      "cell_type": "code",
      "metadata": {
        "colab": {
          "base_uri": "https://localhost:8080/"
        },
        "id": "GaNBXr-1WaZK",
        "outputId": "93772501-7711-470b-8bc3-09ac09376c9a"
      },
      "source": [
        "AUTOTUNE = tf.data.AUTOTUNE\n",
        "batch_size = 32\n",
        "seed = 42\n",
        "\n",
        "# training set\n",
        "raw_train_ds = tf.keras.preprocessing.text_dataset_from_directory(\n",
        "    'data/processed/train',\n",
        "    batch_size=batch_size,\n",
        "    validation_split=0.2,\n",
        "    subset='training',\n",
        "    seed=seed\n",
        ")\n",
        "\n",
        "class_names = raw_train_ds.class_names\n",
        "train_ds = raw_train_ds.cache().prefetch(buffer_size=AUTOTUNE)\n",
        "\n",
        "# validation set\n",
        "val_ds = tf.keras.preprocessing.text_dataset_from_directory(\n",
        "    'data/processed/train',\n",
        "    batch_size=batch_size,\n",
        "    validation_split=0.2,\n",
        "    subset='validation',\n",
        "    seed=seed\n",
        ")\n",
        "\n",
        "val_ds = val_ds.cache().prefetch(buffer_size=AUTOTUNE)\n",
        "\n",
        "# testing set\n",
        "test_ds = tf.keras.preprocessing.text_dataset_from_directory(\n",
        "    'data/processed/test',\n",
        "    batch_size=batch_size\n",
        ")\n",
        "\n",
        "test_ds = test_ds.cache().prefetch(buffer_size=AUTOTUNE)"
      ],
      "execution_count": null,
      "outputs": [
        {
          "output_type": "stream",
          "text": [
            "Found 19900 files belonging to 2 classes.\n",
            "Using 15920 files for training.\n",
            "Found 19900 files belonging to 2 classes.\n",
            "Using 3980 files for validation.\n",
            "Found 3514 files belonging to 2 classes.\n"
          ],
          "name": "stdout"
        }
      ]
    },
    {
      "cell_type": "markdown",
      "metadata": {
        "id": "4jcXTFObWaZK"
      },
      "source": [
        "## Select BERT model\n",
        "\n",
        "[see options here](https://www.tensorflow.org/text/tutorials/classify_text_with_bert#choose_a_bert_model_to_fine-tune)"
      ]
    },
    {
      "cell_type": "code",
      "metadata": {
        "id": "Ozx8uVMkWaZL"
      },
      "source": [
        "# # use ALBERT\n",
        "# tfhub_handle_encoder = 'https://tfhub.dev/tensorflow/albert_en_base/2'\n",
        "# tfhub_handle_preprocess = 'https://tfhub.dev/tensorflow/albert_en_preprocess/3'\n",
        "\n",
        "# use small bert\n",
        "tfhub_handle_encoder = 'https://tfhub.dev/tensorflow/small_bert/bert_en_uncased_L-4_H-512_A-8/1'\n",
        "tfhub_handle_preprocess = 'https://tfhub.dev/tensorflow/bert_en_uncased_preprocess/3'\n",
        "\n",
        "bert_preprocess_model = hub.KerasLayer(tfhub_handle_preprocess)\n",
        "bert_model = hub.KerasLayer(tfhub_handle_encoder)"
      ],
      "execution_count": null,
      "outputs": []
    },
    {
      "cell_type": "markdown",
      "metadata": {
        "id": "8yU3od9TWaZL"
      },
      "source": [
        "## Define model\n",
        "\n",
        "Based off binary text classification example [here](https://www.tensorflow.org/text/tutorials/classify_text_with_bert)"
      ]
    },
    {
      "cell_type": "code",
      "metadata": {
        "id": "S8T8gB4IWaZL"
      },
      "source": [
        "def build_classifier_model():\n",
        "  text_input = tf.keras.layers.Input(shape=(), dtype=tf.string, name='text')\n",
        "  preprocessing_layer = hub.KerasLayer(tfhub_handle_preprocess, name='preprocessing')\n",
        "  encoder_inputs = preprocessing_layer(text_input)\n",
        "  encoder = hub.KerasLayer(tfhub_handle_encoder, trainable=True, name='BERT_encoder')\n",
        "  outputs = encoder(encoder_inputs)\n",
        "  net = outputs['pooled_output']\n",
        "  net = tf.keras.layers.Dropout(0.1)(net)\n",
        "  net = tf.keras.layers.Dense(1, activation=None, name='classifier')(net)\n",
        "  return tf.keras.Model(text_input, net)\n",
        "\n",
        "classifier_model = build_classifier_model()"
      ],
      "execution_count": null,
      "outputs": []
    },
    {
      "cell_type": "markdown",
      "metadata": {
        "id": "MyYvs3n1ZwKz"
      },
      "source": [
        "## Define loss function"
      ]
    },
    {
      "cell_type": "code",
      "metadata": {
        "id": "hvrdiwu4ZzOB"
      },
      "source": [
        "loss = tf.keras.losses.BinaryCrossentropy(from_logits=True)\n",
        "metrics = tf.metrics.BinaryAccuracy()"
      ],
      "execution_count": null,
      "outputs": []
    },
    {
      "cell_type": "markdown",
      "metadata": {
        "id": "vEErUWFyZ-IT"
      },
      "source": [
        "## Define optimizer"
      ]
    },
    {
      "cell_type": "code",
      "metadata": {
        "id": "UBNkAfABaBmt"
      },
      "source": [
        "epochs = 5\n",
        "steps_per_epoch = tf.data.experimental.cardinality(train_ds).numpy()\n",
        "num_train_steps = steps_per_epoch * epochs\n",
        "num_warmup_steps = int(0.1 * num_train_steps)\n",
        "\n",
        "init_lr = 3e-5\n",
        "optimizer = optimization.create_optimizer(init_lr=init_lr,\n",
        "                                          num_train_steps=num_train_steps,\n",
        "                                          num_warmup_steps=num_warmup_steps,\n",
        "                                          optimizer_type='adamw')"
      ],
      "execution_count": null,
      "outputs": []
    },
    {
      "cell_type": "markdown",
      "metadata": {
        "id": "B39nkftuaFRC"
      },
      "source": [
        "## Load BERT"
      ]
    },
    {
      "cell_type": "code",
      "metadata": {
        "id": "1f3VSK10aQ2B"
      },
      "source": [
        "classifier_model.compile(optimizer=optimizer,\n",
        "                         loss=loss,\n",
        "                         metrics=metrics)"
      ],
      "execution_count": null,
      "outputs": []
    },
    {
      "cell_type": "markdown",
      "metadata": {
        "id": "7AvM3SqVaRle"
      },
      "source": [
        "## Train"
      ]
    },
    {
      "cell_type": "code",
      "metadata": {
        "colab": {
          "background_save": true,
          "base_uri": "https://localhost:8080/"
        },
        "id": "xJaW5-IgaUBl",
        "outputId": "9b66c3f8-d023-4612-f354-f9c9b633a675"
      },
      "source": [
        "print(f'Training model with {tfhub_handle_encoder}')\n",
        "history = classifier_model.fit(x=train_ds,\n",
        "                               validation_data=val_ds,\n",
        "                               epochs=epochs)"
      ],
      "execution_count": null,
      "outputs": [
        {
          "output_type": "stream",
          "text": [
            "Training model with https://tfhub.dev/tensorflow/small_bert/bert_en_uncased_L-4_H-512_A-8/1\n",
            "Epoch 1/5\n",
            "498/498 [==============================] - 122s 229ms/step - loss: 0.1111 - binary_accuracy: 0.9564 - val_loss: 0.0271 - val_binary_accuracy: 0.9915\n",
            "Epoch 2/5\n",
            "498/498 [==============================] - 111s 222ms/step - loss: 0.0169 - binary_accuracy: 0.9950 - val_loss: 0.0216 - val_binary_accuracy: 0.9955\n",
            "Epoch 3/5\n",
            "498/498 [==============================] - 112s 224ms/step - loss: 0.0079 - binary_accuracy: 0.9977 - val_loss: 0.0222 - val_binary_accuracy: 0.9957\n",
            "Epoch 4/5\n",
            "498/498 [==============================] - 112s 226ms/step - loss: 0.0047 - binary_accuracy: 0.9987 - val_loss: 0.0232 - val_binary_accuracy: 0.9955\n",
            "Epoch 5/5\n",
            "498/498 [==============================] - 112s 226ms/step - loss: 0.0031 - binary_accuracy: 0.9991 - val_loss: 0.0251 - val_binary_accuracy: 0.9955\n"
          ],
          "name": "stdout"
        }
      ]
    },
    {
      "cell_type": "markdown",
      "metadata": {
        "id": "OkGVtstYe014"
      },
      "source": [
        "## Test"
      ]
    },
    {
      "cell_type": "code",
      "metadata": {
        "id": "rHnD1qBKe2Rq",
        "colab": {
          "base_uri": "https://localhost:8080/"
        },
        "outputId": "e93c13d0-adc7-41d3-8cb6-11662d0ac12f"
      },
      "source": [
        "loss, accuracy = classifier_model.evaluate(test_ds)\n",
        "\n",
        "print(f'Loss: {loss}')\n",
        "print(f'Accuracy: {accuracy}')"
      ],
      "execution_count": 13,
      "outputs": [
        {
          "output_type": "stream",
          "text": [
            "110/110 [==============================] - 11s 98ms/step - loss: 0.0302 - binary_accuracy: 0.9946\n",
            "Loss: 0.030168350785970688\n",
            "Accuracy: 0.99459308385849\n"
          ],
          "name": "stdout"
        }
      ]
    },
    {
      "cell_type": "markdown",
      "metadata": {
        "id": "eCfYpQH8fCRZ"
      },
      "source": [
        "## Training stats"
      ]
    },
    {
      "cell_type": "code",
      "metadata": {
        "id": "zCIu95IifG5r",
        "colab": {
          "base_uri": "https://localhost:8080/",
          "height": 421
        },
        "outputId": "387ab47b-bf1a-48d5-909f-3c0cf6775f80"
      },
      "source": [
        "history_dict = history.history\n",
        "\n",
        "acc = history_dict['binary_accuracy']\n",
        "val_acc = history_dict['val_binary_accuracy']\n",
        "loss = history_dict['loss']\n",
        "val_loss = history_dict['val_loss']\n",
        "\n",
        "epochs = range(1, len(acc) + 1)\n",
        "fig = plt.figure(figsize=(10, 6))\n",
        "fig.tight_layout()\n",
        "\n",
        "plt.subplot(2, 1, 1)\n",
        "# \"bo\" is for \"blue dot\"\n",
        "plt.plot(epochs, loss, 'r', label='Training loss')\n",
        "# b is for \"solid blue line\"\n",
        "plt.plot(epochs, val_loss, 'b', label='Validation loss')\n",
        "plt.title('Training and validation loss')\n",
        "# plt.xlabel('Epochs')\n",
        "plt.ylabel('Loss')\n",
        "plt.legend()\n",
        "\n",
        "plt.subplot(2, 1, 2)\n",
        "plt.plot(epochs, acc, 'r', label='Training acc')\n",
        "plt.plot(epochs, val_acc, 'b', label='Validation acc')\n",
        "plt.title('Training and validation accuracy')\n",
        "plt.xlabel('Epochs')\n",
        "plt.ylabel('Accuracy')\n",
        "plt.legend(loc='lower right')"
      ],
      "execution_count": 14,
      "outputs": [
        {
          "output_type": "execute_result",
          "data": {
            "text/plain": [
              "<matplotlib.legend.Legend at 0x7f0a3c26db50>"
            ]
          },
          "metadata": {
            "tags": []
          },
          "execution_count": 14
        },
        {
          "output_type": "display_data",
          "data": {
            "image/png": "[encoded data removed]",
            "text/plain": [
              "<Figure size 720x432 with 2 Axes>"
            ]
          },
          "metadata": {
            "tags": [],
            "needs_background": "light"
          }
        }
      ]
    },
    {
      "cell_type": "markdown",
      "metadata": {
        "id": "vuVgE_9RfXEh"
      },
      "source": [
        "## Export\n",
        "\n",
        "This will export the model to `classifier.zip`, which can be downloaded."
      ]
    },
    {
      "cell_type": "code",
      "metadata": {
        "id": "-yCH30AVfYLq",
        "colab": {
          "base_uri": "https://localhost:8080/"
        },
        "outputId": "62bb0082-ead1-4360-93de-76702b953c70"
      },
      "source": [
        "dataset_name = 'textbook_name_recognition'\n",
        "saved_model_path = './{}_bert'.format(dataset_name.replace('/', '_'))\n",
        "\n",
        "classifier_model.save(saved_model_path, include_optimizer=False)\n",
        "\n",
        "!zip -r /content/classifier.zip /content/textbook_name_recognition_bert\n",
        "!rm -rf /content/textbook_name_recognition_bert"
      ],
      "execution_count": 15,
      "outputs": [
        {
          "output_type": "stream",
          "text": [
            "WARNING:absl:Found untraced functions such as restored_function_body, restored_function_body, restored_function_body, restored_function_body, restored_function_body while saving (showing 5 of 310). These functions will not be directly callable after loading.\n"
          ],
          "name": "stderr"
        },
        {
          "output_type": "stream",
          "text": [
            "INFO:tensorflow:Assets written to: ./textbook_name_recognition_bert/assets\n"
          ],
          "name": "stdout"
        },
        {
          "output_type": "stream",
          "text": [
            "INFO:tensorflow:Assets written to: ./textbook_name_recognition_bert/assets\n"
          ],
          "name": "stderr"
        },
        {
          "output_type": "stream",
          "text": [
            "  adding: content/textbook_name_recognition_bert/ (stored 0%)\n",
            "  adding: content/textbook_name_recognition_bert/assets/ (stored 0%)\n",
            "  adding: content/textbook_name_recognition_bert/assets/vocab.txt (deflated 53%)\n",
            "  adding: content/textbook_name_recognition_bert/variables/ (stored 0%)\n",
            "  adding: content/textbook_name_recognition_bert/variables/variables.index (deflated 75%)\n",
            "  adding: content/textbook_name_recognition_bert/variables/variables.data-00000-of-00001 (deflated 7%)\n",
            "  adding: content/textbook_name_recognition_bert/saved_model.pb (deflated 92%)\n",
            "  adding: content/textbook_name_recognition_bert/keras_metadata.pb (deflated 84%)\n"
          ],
          "name": "stdout"
        }
      ]
    },
    {
      "cell_type": "markdown",
      "metadata": {
        "id": "R9BnSFqehFUB"
      },
      "source": [
        "## Sample usage"
      ]
    },
    {
      "cell_type": "code",
      "metadata": {
        "id": "LbezgcvNhH6o",
        "colab": {
          "base_uri": "https://localhost:8080/"
        },
        "outputId": "60c8d0b7-0ccb-4e4e-d08d-37515c29676a"
      },
      "source": [
        "def print_examples(inputs, results):\n",
        "  for i in range(len(inputs)):\n",
        "    print('input: {}\\n\\tscore: {:.3f}%'.format(inputs[i], results[i][0] * 100))\n",
        "\n",
        "examples = [\n",
        "  'harry potter by jk. rowling',\n",
        "  'Intro to Data Structures, Cormen et. al, 2020',\n",
        "  'You will be required to purchase these textbooks',\n",
        "  'required readings:',\n",
        "  'harry potter, 339 pages',\n",
        "  'What is gender',\n",
        "  'Al-kitaab fii Ta\\'allum al-\\'Arabiyya, with DVDs, a Textbook for Intermediate Arabic, Part two, third Edition Georgetown University Press, Washington',\n",
        "  'intro to gender studies',\n",
        "  'intro to chemistry',\n",
        "  'Embodied psychologies'\n",
        "]\n",
        "\n",
        "results = tf.sigmoid(classifier_model(tf.constant(list(preprocessing.standardize(example) for example in examples))))\n",
        "\n",
        "print_examples(examples, results)"
      ],
      "execution_count": 16,
      "outputs": [
        {
          "output_type": "stream",
          "text": [
            "input: harry potter by jk. rowling\n",
            "\tscore: 99.998%\n",
            "input: Intro to Data Structures, Cormen et. al, 2020\n",
            "\tscore: 98.616%\n",
            "input: You will be required to purchase these textbooks\n",
            "\tscore: 0.001%\n",
            "input: required readings:\n",
            "\tscore: 0.001%\n",
            "input: harry potter, 339 pages\n",
            "\tscore: 99.982%\n",
            "input: What is gender\n",
            "\tscore: 0.002%\n",
            "input: Al-kitaab fii Ta'allum al-'Arabiyya, with DVDs, a Textbook for Intermediate Arabic, Part two, third Edition Georgetown University Press, Washington\n",
            "\tscore: 99.986%\n",
            "input: intro to gender studies\n",
            "\tscore: 0.405%\n",
            "input: intro to chemistry\n",
            "\tscore: 0.036%\n",
            "input: Embodied psychologies\n",
            "\tscore: 0.005%\n"
          ],
          "name": "stdout"
        }
      ]
    },
    {
      "cell_type": "markdown",
      "metadata": {
        "id": "6b7fZCAdciWd"
      },
      "source": [
        "# Classifying Timetable Segments"
      ]
    },
    {
      "cell_type": "markdown",
      "metadata": {
        "id": "PpGAd3qMghW0"
      },
      "source": [
        "## Test on manually tagged data"
      ]
    },
    {
      "cell_type": "code",
      "metadata": {
        "id": "z-MfZbVFgg3v",
        "colab": {
          "base_uri": "https://localhost:8080/"
        },
        "outputId": "f20ee189-244c-444a-c19b-3442b1685bd3"
      },
      "source": [
        "# True - BOOK, False - NOT BOOK, None - MERGED INTO NEXT (interpret as BOOK)\n",
        "manual_labels = [True, True, True, True, True, True, False, True, True, True, True, True, True, True, True, True, True, True, True, True, True, True, False, True, False, True, True, True, False, True, True, True, True, False, True, True, True, False, False, False, True, True, True, True, True, True, True, True, True, False, True, True, False, True, True, True, True, True, True, True, True, False, True, False, True, False, True, True, False, True, False, True, True, True, True, True, True, True, True, False, True, True, False, True, True, False, True, True, False, True, True, True, True, True, False, True, True, True, False, True, True, False, False, True, True, False, False, False, False, False, False, True, True, True, False, False, False, False, True, True, True, False, True, False, False, False, False, True, False, False, False, False, False, False, False, False, False, False, False, False, False, False, False, False, False, True, True, True, False, False, False, False, False, True, False, False, False, False, False, True, False, False, True, False, False, False, False, False, False, False, False, False, False, False, False, False, True, False, False, False, True, True, False, False, False, False, False, True, False, False, False, False, False, False, False, False, False, False, False, True, True, False, False, False, True, False, True, True, True, False, True, True, True, False, False, True, True, True, False, True, True, True, False, False, True, False, True, False, False, True, False, True, True, True, False, True, True, True, False, False, True, False, True, True, True, True, True, True, True, True, True, True, True, True, True, True, True, True, True, True, True, True, False, False, False, False, False, False, True, True, True, True, True, False, False, True, True, True, True, True, False, True, True, True, True, True, False, False, True, True, False, False, False, True, True, True, True, True, True, True, False, True, False, False, True, False, True, True, True, True, True, False, True, True, True, False, True, True, False, False, True, False, True, False, False, False, False, False, True, True, True, False, False, False, True, True, True, True, False, False, False, False, True, True, False, False, True, False, True, True, True, True, True, False, True, True, True, True, True, True, True, True, True, True, True, True, True, True, True, True, True, False, False, False, False, True, True, True, False, False, True, False, False, True, True, True, False, False, False, True, False, False, True, False, True, True, True, True, False, True, True, True, True, False, False, False, False, False, False, False, False, False, False, False, False, False, False, False, False, False, False, False, False, False, False, True, False, True, False, False, True, False, False, True, False, True, True, True, True, True, False, True, False, False, True, True, True, True, True, True, True, False, True, False, True, True, True, True, True, False, True, True, True, True, True, True, True, False, False, True, True, True, True, True, True, True, True, False, True, True, True, True, False, True, True, False, True, True, False, True, True, True, True, True, True, True, True, True, False, False, False, True, False, True, False, False, True, True, True, False, False, False, True, True, True, True, True, False, True, False, True, False, True, False, False, True, False, True, False, True, False, True, False, False, False, True, True, False, True, False, True, False, True, False, True, False, True, False, True, False, True, True, False, True, True, True, True, True, True, True, False, True, False, True, True, True, True, True, True, True, False, True, False, True, True, True, True, True, False, True, False, True, False, True, False, True, True, False, False, True, False, True, False, True, True, True, False, False, True, True, True, True, True, True, True, True, True, True, False, True, True, False, False, False, True, True, True, True, True, True, True, True, True, True, True, True, True, True, True, True, True, True, True, True, False, True, True, True, True, True, False, True, True, True, True, True, False, False, True, True, False, True, True, True, False, False, False, True, True, False, True, True, True, True, False, True, True, True, False, True, True, True, False, True, False, False, False, False, True, True, False, True, False, False, True, True, True, True, False, True, True, True, True, True, False, True, True, True, True, True, True]\n",
        "\n",
        "scores = tf.sigmoid(classifier_model(tf.constant(data[:len(manual_labels)])))\n",
        "computed_labels = list(score[0] > 0.5 for score in scores)\n",
        "\n",
        "tp, fp, tn, fn = 0, 0, 0, 0\n",
        "for i in range(len(manual_labels)):\n",
        "  err = False\n",
        "\n",
        "  if computed_labels[i]:\n",
        "    if manual_labels[i]: tp += 1\n",
        "    else:\n",
        "      fp += 1\n",
        "      err = True\n",
        "  else:\n",
        "    if manual_labels[i]:\n",
        "      fn += 1\n",
        "      err = True\n",
        "    else: tn += 1\n",
        "\n",
        "  if err: print('\"{}\"\\n\\tincorrectly classified: {} ({}%)'.format(data[i], 'BOOK' if computed_labels[i] else 'NOT BOOK', scores[i][0] * 100))\n",
        "\n",
        "print('\\nConfusion Matrix:\\n\\tTP: {:<3d}\\tFP: {:<3d}\\n\\tFN: {:<3d}\\tTN: {:<3d}'.format(tp, fp, fn, tn))\n",
        "print('\\nPrecision: {:.3f}\\nRecall: {:.3f}'.format(tp / (tp + fp), tp / (tp + fn)))"
      ],
      "execution_count": 17,
      "outputs": [
        {
          "output_type": "stream",
          "text": [
            "\"Fadiman, Anne\"\n",
            "\tincorrectly classified: BOOK (99.35369110107422%)\n",
            "\"None. Readings available in Canvas.\"\n",
            "\tincorrectly classified: BOOK (99.24520874023438%)\n",
            "\"0 9 8 7 6 5 4 3 2 1 2004\"\n",
            "\tincorrectly classified: BOOK (99.97216796875%)\n",
            "\"Amazon New $154.66  Used $121.96 Rent $ 76.97 91520\"\n",
            "\tincorrectly classified: NOT BOOK (0.7209190726280212%)\n",
            "\"Reading and video materials will be provided via Canvas and 2hr Dana library Loan.\"\n",
            "\tincorrectly classified: NOT BOOK (0.007098568137735128%)\n",
            "\"The older 7th edition is adequate, and you may be able to find a used copy for sale.\"\n",
            "\tincorrectly classified: NOT BOOK (0.008042467758059502%)\n",
            "\"For the 8th edition, only two purchase options are available.\"\n",
            "\tincorrectly classified: NOT BOOK (0.013738580979406834%)\n",
            "\"32 pages\"\n",
            "\tincorrectly classified: BOOK (68.25786590576172%)\n",
            "\"32 pages\"\n",
            "\tincorrectly classified: BOOK (68.25786590576172%)\n",
            "\"Required Zubrick, James W. The Organic Chem Lab Survival Manual, A Students Guide to Techniques, 10th ed., John Wiley and Sons, 2016. ISBN 9781118875780\"\n",
            "\tincorrectly classified: BOOK (99.99523162841797%)\n",
            "\"One complete set of Integrated Chinese Third Edition, Paperback, Traditional, Level 1 Parts 1  2, i.e., 6 booksset.\"\n",
            "\tincorrectly classified: NOT BOOK (18.30304527282715%)\n",
            "\"No texts u2013 articles, etc., on Canvas\"\n",
            "\tincorrectly classified: BOOK (96.40076446533203%)\n",
            "\"Sheri Biesen, Blackout World War II and the Origins of Film Noir\"\n",
            "\tincorrectly classified: NOT BOOK (29.686927795410156%)\n",
            "\"Optional Krugman, Microeconomics any edition\"\n",
            "\tincorrectly classified: NOT BOOK (0.01655852049589157%)\n",
            "\"Optional Krugman, Microeconomics any edition\"\n",
            "\tincorrectly classified: NOT BOOK (0.01655852049589157%)\n",
            "\"Statistical Inference by Casella and Berger\"\n",
            "\tincorrectly classified: NOT BOOK (30.034080505371094%)\n",
            "\"Probability and Statistics by DeGroot and Schervish\"\n",
            "\tincorrectly classified: NOT BOOK (0.2860962450504303%)\n",
            "\"Statistical Inference by Casella and Berger\"\n",
            "\tincorrectly classified: NOT BOOK (30.034080505371094%)\n",
            "\"Probability and Statistics by DeGroot and Schervish\"\n",
            "\tincorrectly classified: NOT BOOK (0.2860962450504303%)\n",
            "\"Mostly Harmless Econometrics\"\n",
            "\tincorrectly classified: NOT BOOK (0.0025296728126704693%)\n",
            "\"Joshua D. Angrist and JornSteffen Pischke\"\n",
            "\tincorrectly classified: NOT BOOK (31.072038650512695%)\n",
            "\"Readings in the course reader are taken from 1 Introduction to Linear Optimization by Dimitris Bertsimas and John N. Tsitsiklis BT, 2 Network Flows Theory, Algorithms and Applications by Ravindra K. Ahuja, Thomas L. Magnanti, and James H. Orlin AMO, 3 Urban Operations Research by Richard C. Larson and Amedeo R. Odoni LO, and 4 Game Theory by Drew Fudenberg and Jean Tirole FT.\"\n",
            "\tincorrectly classified: NOT BOOK (0.1164606511592865%)\n",
            "\"Please be sure you buy the correct anthology Norton publishes several with confusingly similar titles. Doublecheck the ISBN.\"\n",
            "\tincorrectly classified: BOOK (99.95979309082031%)\n",
            "\"Please be sure you buy the correct anthology Norton publishes several with confusingly similar titles. Doublecheck the ISBN.\"\n",
            "\tincorrectly classified: BOOK (99.95979309082031%)\n",
            "\"Engineering Field Theory, u00D6sterberg and Hansen, 2014  will be distributed in Class.\"\n",
            "\tincorrectly classified: NOT BOOK (1.2445451021194458%)\n",
            "\"Sheri Biesen, Blackout World War II and the Origins of Film Noir\"\n",
            "\tincorrectly classified: NOT BOOK (29.686927795410156%)\n",
            "\" McCloud, Understanding Comics ASAP Lots of used copies are available\"\n",
            "\tincorrectly classified: NOT BOOK (0.19046175479888916%)\n",
            "\" Miller, Janson, and Varley, Batman The Dark Knight Returns\"\n",
            "\tincorrectly classified: NOT BOOK (2.4093589782714844%)\n",
            "\" Forsman, The End of the Fng World\"\n",
            "\tincorrectly classified: NOT BOOK (2.4672298431396484%)\n",
            "\"Connect ISBN  0077412745 SmartBook, the continually adaptive and fully mobile reading experience within Connectu2014now with offline access Purchase price $130\"\n",
            "\tincorrectly classified: BOOK (99.20050811767578%)\n",
            "\"Connect ISBN  0077412745 SmartBook, the continually adaptive and fully mobile reading experience within Connectu2014now with offline access Purchase price $130\"\n",
            "\tincorrectly classified: BOOK (99.20050811767578%)\n",
            "\"Connect ISBN  0077412745 SmartBook, the continually adaptive and fully mobile reading experience within Connectu2014now with offline access Purchase price $130\"\n",
            "\tincorrectly classified: BOOK (99.20050811767578%)\n",
            "\"Connect ISBN  0077412745 SmartBook, the continually adaptive and fully mobile reading experience within Connectu2014now with offline access Purchase price $130\"\n",
            "\tincorrectly classified: BOOK (99.20050811767578%)\n",
            "\"Connect ISBN  0077412745 SmartBook, the continually adaptive and fully mobile reading experience within Connectu2014now with offline access Purchase price $130\"\n",
            "\tincorrectly classified: BOOK (99.20050811767578%)\n",
            "\"Connect ISBN  0077412745 SmartBook, the continually adaptive and fully mobile reading experience within Connectu2014now with offline access Purchase price $130\"\n",
            "\tincorrectly classified: BOOK (99.20050811767578%)\n",
            "\"Terrell, Rogers, Kerr, Spielman, Santore\"\n",
            "\tincorrectly classified: NOT BOOK (0.01189225073903799%)\n",
            "\"Seventh Edition ISBN 0073386456\"\n",
            "\tincorrectly classified: BOOK (99.99524688720703%)\n",
            "\"Connect ISBN  0077412745 SmartBook, the continually adaptive and fully mobile reading experience within Connectu2014now with offline access Purchase price $130\"\n",
            "\tincorrectly classified: BOOK (99.20050811767578%)\n",
            "\"Connect ISBN  0077412745 SmartBook, the continually adaptive and fully mobile reading experience within Connectu2014now with offline access Purchase price $130\"\n",
            "\tincorrectly classified: BOOK (99.20050811767578%)\n",
            "\"No book order.\"\n",
            "\tincorrectly classified: BOOK (99.71566009521484%)\n",
            "\"Remote Sensing and Image Interpretation\"\n",
            "\tincorrectly classified: NOT BOOK (0.0017403773963451385%)\n",
            "\"th Edition John Wiley  Sons\"\n",
            "\tincorrectly classified: BOOK (99.98465728759766%)\n",
            "\"No book order for this class.\"\n",
            "\tincorrectly classified: BOOK (99.97496032714844%)\n",
            "\"Title Pale Rider The Spanish Flu of 1918 and How It Changed the World\"\n",
            "\tincorrectly classified: NOT BOOK (38.5550537109375%)\n",
            "\"Title And the Band Played On\"\n",
            "\tincorrectly classified: NOT BOOK (0.01837824657559395%)\n",
            "\"1 U.S. Constitution\"\n",
            "\tincorrectly classified: NOT BOOK (0.7598419189453125%)\n",
            "\"2 Federal Rules of Civil Procedure \"\n",
            "\tincorrectly classified: NOT BOOK (0.04154777154326439%)\n",
            "\"3 Federal Rules of Evidence\"\n",
            "\tincorrectly classified: NOT BOOK (0.10856536775827408%)\n",
            "\"httpswww.amazon.comskGenna Rae McNeil2C Groundwork  Charles Hamilton Houston and the Struggle for Civil Rights.refnb_sb_noss\"\n",
            "\tincorrectly classified: NOT BOOK (2.6145284175872803%)\n",
            "\"httpswww.amazon.comStatevPeytonElizabethBoalsdp1601565976refsr_1_fkmr0_1keywordsState v. Peyton2C Second Edition published by The National Institute for Trial Advocacyqid1555444071sbookssr11fkmr0\"\n",
            "\tincorrectly classified: NOT BOOK (0.11587919294834137%)\n",
            "\n",
            "Confusion Matrix:\n",
            "\tTP: 394\tFP: 21 \n",
            "\tFN: 29 \tTN: 257\n",
            "\n",
            "Precision: 0.949\n",
            "Recall: 0.931\n"
          ],
          "name": "stdout"
        }
      ]
    }
  ]
}